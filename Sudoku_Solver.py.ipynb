{
 "cells": [
  {
   "cell_type": "code",
   "execution_count": 1,
   "metadata": {},
   "outputs": [],
   "source": [
    "def sudoku_reference():\n",
    "    \n",
    "    def cross(str_a, str_b):\n",
    "        return [a + b for a in str_a for b in str_b]\n",
    "    \n",
    "    all_rows = 'ABCDEFGHI'\n",
    "    all_columns = '123456789'\n",
    "    \n",
    "    coords = cross(all_rows, all_columns)\n",
    "    \n",
    "    row_units = [cross(r, all_columns) for r in all_rows]\n",
    "    \n",
    "    col_units = [cross(all_rows, c) for c in all_columns]\n",
    "    \n",
    "    box_units = [cross(r_sq, c_sq) for r_sq in ['ABC', 'DEF', 'GHI'] for c_sq in ['123', '456', '789']]\n",
    "    \n",
    "    all_units = row_units + col_units + box_units  \n",
    "    \n",
    "    groups = {}\n",
    "    \n",
    "    groups['units'] = {pos : [unit for unit in all_units if pos in unit] for pos in coords}\n",
    "    \n",
    "    groups['peers'] = {pos: set(sum(groups['units'][pos], [])) - {pos} for pos in coords}\n",
    "    \n",
    "    return coords, groups, all_units\n",
    "    "
   ]
  },
  {
   "cell_type": "code",
   "execution_count": 2,
   "metadata": {},
   "outputs": [],
   "source": [
    "def parse_puzzle(puzzle, digits = '123456789', nulls = '0.'):\n",
    "    \n",
    "    flat_puzzle = ['.' if char in nulls else char for char in puzzle if char in digits + nulls]\n",
    "    coords, groups, all_units = sudoku_reference()\n",
    "    return dict(zip(coords, flat_puzzle))"
   ]
  },
  {
   "cell_type": "code",
   "execution_count": 47,
   "metadata": {},
   "outputs": [],
   "source": [
    "def solve_puzzle(puzzle):\n",
    "    \"\"\"Solves a Sudoku puzzle from a string input.\"\"\"\n",
    "    digits = '123456789'  # Using a string here instead of a list\n",
    "\n",
    "    coords, groups, all_units = sudoku_reference()\n",
    "    input_grid = parse_puzzle(puzzle)\n",
    "    input_grid = {k: v for k, v in input_grid.items() if v != '.'}  # Filter so we only have confirmed cells\n",
    "    output_grid = {cell: digits for cell in coords}  # Create a board where all digits are possible in each cell\n",
    "\n",
    "    def confirm_value(grid, pos, val):\n",
    "        \"\"\"Confirms a value by eliminating all other remaining possibilities.\"\"\"\n",
    "        remaining_values = grid[pos].replace(val, '')  # Possibilities we can eliminate due to the confirmation\n",
    "        for val in remaining_values:\n",
    "            grid = eliminate(grid, pos, val)\n",
    "#             print(grid)\n",
    "        return grid\n",
    "\n",
    "    def eliminate(grid, pos, val):\n",
    "        \"\"\"Eliminates `val` as a possibility from all peers of `pos`.\"\"\"\n",
    "\n",
    "        if grid is None:  \n",
    "            return None\n",
    "\n",
    "        if val not in grid[pos]:  # If we have already eliminated this value we can exit\n",
    "            return grid\n",
    "\n",
    "        grid[pos] = grid[pos].replace(val, '')  # Remove the possibility from the given cell\n",
    "\n",
    "        if len(grid[pos]) == 0:  # If there are no remaining possibilities, we have made the wrong decision\n",
    "            return None\n",
    "        elif len(grid[pos]) == 1:  # We have confirmed the digit and so can remove that value from all peers now\n",
    "            for peer in groups['peers'][pos]:\n",
    "                grid = eliminate(grid, peer, grid[pos])  # Recurses, propagating the constraint\n",
    "                if grid is None:  # Exit if grid has already found a contradiction\n",
    "                    return None\n",
    "\n",
    "        # Check for the number of remaining places the eliminated digit could possibly occupy\n",
    "        for unit in groups['units'][pos]:\n",
    "            possibilities = [p for p in unit if val in grid[p]]\n",
    "\n",
    "            if len(possibilities) == 0:  # If there are no possible locations for the digit, we have made a mistake\n",
    "                return None\n",
    "            # If there is only one possible position and that still has multiple possibilities, confirm the digit\n",
    "            elif len(possibilities) == 1 and len(grid[possibilities[0]]) > 1:\n",
    "                if confirm_value(grid, possibilities[0], val) is None:\n",
    "                    return None\n",
    "\n",
    "        return grid\n",
    "\n",
    "\n",
    "    for position, value in input_grid.items():  # For each value we're given, confirm the value\n",
    "        output_grid = confirm_value(output_grid, position, value)\n",
    "\n",
    "    return output_grid"
   ]
  },
  {
   "cell_type": "code",
   "execution_count": 48,
   "metadata": {},
   "outputs": [],
   "source": [
    "puzzle =  \"105070400080200000724001006000325000237000145600417000800100624000003050001040309\"\n",
    "         "
   ]
  },
  {
   "cell_type": "code",
   "execution_count": 50,
   "metadata": {
    "scrolled": true
   },
   "outputs": [],
   "source": [
    "values = solve_puzzle(puzzle)"
   ]
  },
  {
   "cell_type": "code",
   "execution_count": 66,
   "metadata": {},
   "outputs": [
    {
     "name": "stdout",
     "output_type": "stream",
     "text": [
      "Solved Sudoku\n",
      "\n",
      "1 9 5 6 7 8 4 3 2 \n",
      "\n",
      "3 8 6 2 9 4 5 1 7 \n",
      "\n",
      "7 2 4 5 3 1 9 8 6 \n",
      "\n",
      "4 1 9 3 2 5 7 6 8 \n",
      "\n",
      "2 3 7 9 8 6 1 4 5 \n",
      "\n",
      "6 5 8 4 1 7 2 9 3 \n",
      "\n",
      "8 7 3 1 5 9 6 2 4 \n",
      "\n",
      "9 4 2 7 6 3 8 5 1 \n",
      "\n",
      "5 6 1 8 4 2 3 7 9 \n",
      "\n"
     ]
    }
   ],
   "source": [
    "print(\"Solved Sudoku\\n\")\n",
    "for i in range(9):\n",
    "    ch = chr(65 + i)\n",
    "    for j in range(9):\n",
    "        print(values[ch+str(j+1)],end = \" \")\n",
    "    print('\\n')"
   ]
  },
  {
   "cell_type": "code",
   "execution_count": null,
   "metadata": {},
   "outputs": [],
   "source": []
  }
 ],
 "metadata": {
  "kernelspec": {
   "display_name": "Python 3",
   "language": "python",
   "name": "python3"
  },
  "language_info": {
   "codemirror_mode": {
    "name": "ipython",
    "version": 3
   },
   "file_extension": ".py",
   "mimetype": "text/x-python",
   "name": "python",
   "nbconvert_exporter": "python",
   "pygments_lexer": "ipython3",
   "version": "3.7.3"
  }
 },
 "nbformat": 4,
 "nbformat_minor": 2
}
